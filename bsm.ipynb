{
 "cells": [
  {
   "cell_type": "markdown",
   "id": "391784f1",
   "metadata": {},
   "source": [
    "## Black-Scholes-Merton Model\n",
    "\n",
    "6 Key Parameters:\n",
    "\n",
    "* S: Current Underlying Price\n",
    "* K: Strike Price\n",
    "* T: Time to Maturity (in Years)\n",
    "* r: Risk-Free Interest Rate\n",
    "* $\\sigma$: Volatility of Underlying stock\n",
    "* q: Dividend Yield"
   ]
  },
  {
   "cell_type": "markdown",
   "id": "21dae040",
   "metadata": {},
   "source": [
    "### Call Option Value:\n",
    "\n",
    "$$ C = Se^{(-qT)}N(d_1) - Ke^{(-rT)}N(d_2) $$\n",
    "$$ P = Ke^{(-rT)}N(d_2) - Se^{(-qT)}N(d_1) $$\n",
    "\n",
    "---\n",
    "\n",
    "$$d_1 = \\frac{ln(S/K) + (r - q + 0.5\\sigma^2)T}{\\sigma \\sqrt T}$$\n",
    "$$d_2 = d_1 - \\sigma \\sqrt T $$\n",
    "\n",
    "---"
   ]
  },
  {
   "cell_type": "code",
   "execution_count": 1,
   "id": "3e6c4c18",
   "metadata": {},
   "outputs": [],
   "source": [
    "import jax.numpy as jnp\n",
    "from jax import grad\n",
    "from jax.scipy.stats import norm as jnorm\n",
    "\n",
    "#reference package\n",
    "import blackscholes as bs"
   ]
  },
  {
   "cell_type": "code",
   "execution_count": null,
   "id": "f5b37077",
   "metadata": {},
   "outputs": [],
   "source": [
    "def black_scholes(S, K, T, r, sigma, q=0, otype='call'):\n",
    "    d1 = (jnp.log(S / K) + (r - q + 0.5 * sigma ** 2) * T) / (sigma * jnp.sqrt(T))\n",
    "    d2 = d1 - sigma * jnp.sqrt(T)\n",
    "    if otype == 'call':\n",
    "        call = S * jnp.exp(-q * T) * jnorm.cdf(d1, 0, 1) - K * jnp.exp(-r * T) * jnorm.cdf(d2, 0, 1)\n",
    "        return call\n",
    "    else:\n",
    "        put = K * jnp.exp(-r * T) * jnorm.cdf(-d2, 0, 1) - S * jnp.exp(-q * T) * jnorm.cdf(-d1, 0, 1)\n",
    "        return put"
   ]
  },
  {
   "cell_type": "code",
   "execution_count": 30,
   "id": "4a473b68",
   "metadata": {},
   "outputs": [
    {
     "name": "stdout",
     "output_type": "stream",
     "text": [
      "Call Price (JAX): 10.450577\n",
      "Call Price (Reference): 10.450583572185565\n",
      "Put Price (JAX): 5.5735245\n",
      "Put Price (Reference): 5.573526022256971\n"
     ]
    }
   ],
   "source": [
    "S = 100.0  # Current stock price\n",
    "K = 100.0  # Strike price\n",
    "T = 1.0    # Time to expiration in years\n",
    "r = 0.05   # Risk-free interest rate\n",
    "sigma = 0.2  # Volatility of the underlying stock\n",
    "q = 0.0    # Dividend yield\n",
    "\n",
    "#testing the function\n",
    "call_price = black_scholes(S, K, T, r, sigma, q, otype='call')\n",
    "print(\"Call Price (JAX):\", call_price)\n",
    "\n",
    "# Using the reference package to validate\n",
    "call = bs.BlackScholesCall(S, K, T, r, sigma)\n",
    "print(\"Call Price (Reference):\", call.price())\n",
    "\n",
    "put_price = black_scholes(S, K, T, r, sigma, q, otype='put')\n",
    "print(\"Put Price (JAX):\", put_price)\n",
    "\n",
    "# Using the reference package to validate\n",
    "put = bs.BlackScholesPut(S, K, T, r, sigma)\n",
    "print(\"Put Price (Reference):\", put.price())"
   ]
  },
  {
   "cell_type": "markdown",
   "id": "5bee0ea1",
   "metadata": {},
   "source": [
    "### Greeks:\n",
    "\n",
    "1. Delta: Option Price Change due to change in Underlying Price Change.\n",
    "    \n",
    "    * $\\Delta$ = $\\frac{\\delta C}{\\delta S}$\n",
    "\n",
    "2. Gamma: Option Price Change due to change in Volatility.\n",
    "\n",
    "    * $\\Gamma$ = $\\frac{\\delta ^2 C}{\\delta S^2}$\n",
    "\n",
    "3. Theta: Option Price Change due to changes in Time to Maturity.\n",
    "\n",
    "    * $\\Theta$ = $\\frac{\\delta C}{\\delta T}$\n",
    "\n",
    "4. Rho: Option Price Change due to change in Interest Rate.\n",
    "\n",
    "    * $\\rho$ = $\\frac{\\delta C}{\\delta r}$\n",
    "\n",
    "5. Vega: Option Price Change due to change in Volatility.\n",
    "\n",
    "    * $\\nu$ = $\\frac{\\delta C}{\\delta \\sigma}$"
   ]
  },
  {
   "cell_type": "code",
   "execution_count": 25,
   "id": "e1e196a1",
   "metadata": {},
   "outputs": [],
   "source": [
    "delta = grad(black_scholes, argnums=0)\n",
    "gamma = grad(delta, argnums=0)\n",
    "theta = grad(black_scholes, argnums=2)\n",
    "rho = grad(black_scholes, argnums=3)\n",
    "vega = grad(black_scholes, argnums=4)"
   ]
  },
  {
   "cell_type": "code",
   "execution_count": 31,
   "id": "91e0e14d",
   "metadata": {},
   "outputs": [
    {
     "name": "stdout",
     "output_type": "stream",
     "text": [
      "Delta (JAX): 0.6368306\n",
      "Delta (Reference): 0.6368306511756191\n",
      "Gamma (JAX): 0.018762019\n",
      "Gamma (Reference): 0.018762017345846895\n",
      "Theta (JAX): -6.414028\n",
      "Theta (Reference): -6.414027546438197\n",
      "Rho (JAX): 53.232483\n",
      "Rho (Reference): 53.232481545376345\n",
      "Vega (JAX): 37.524036\n",
      "Vega (Reference): 37.52403469169379\n"
     ]
    }
   ],
   "source": [
    "our_delta = delta(S, K, T, r, sigma, q, otype='call')\n",
    "print(\"Delta (JAX):\", our_delta)\n",
    "print(\"Delta (Reference):\", call.delta())\n",
    "our_gamma = gamma(S, K, T, r, sigma, q, otype='call')\n",
    "print(\"Gamma (JAX):\", our_gamma)\n",
    "print(\"Gamma (Reference):\", call.gamma())\n",
    "our_theta = -theta(S, K, T, r, sigma, q, otype='call')\n",
    "print(\"Theta (JAX):\", our_theta)\n",
    "print(\"Theta (Reference):\", call.theta())\n",
    "our_rho = rho(S, K, T, r, sigma, q, otype='call')\n",
    "print(\"Rho (JAX):\", our_rho)\n",
    "print(\"Rho (Reference):\", call.rho())\n",
    "our_vega = vega(S, K, T, r, sigma, q, otype='call')\n",
    "print(\"Vega (JAX):\", our_vega)\n",
    "print(\"Vega (Reference):\", call.vega())"
   ]
  },
  {
   "cell_type": "code",
   "execution_count": 32,
   "id": "5f162794",
   "metadata": {},
   "outputs": [],
   "source": [
    "def loss(S, K, T, r, sigma_guess, price, q=0, otype=\"call\"):\n",
    "\n",
    "    #Price with GUESS for Volatility\n",
    "    theoretical_price = black_scholes(S, K, T, r, sigma_guess, q, otype)\n",
    "\n",
    "    market_price = price\n",
    "\n",
    "    return theoretical_price - market_price\n",
    "\n",
    "loss_grad = grad(loss, argnums=4)"
   ]
  },
  {
   "cell_type": "markdown",
   "id": "5c0f807b",
   "metadata": {},
   "source": [
    "### Newton-Ralphson Method\n",
    "\n",
    "$x^g$ is the guess for volatility.\n",
    "\n",
    "$x^g_{n+1}$ = $x^g_n - \\frac{f(x^g_n)}{f'(x^g_n)}$\n",
    "\n",
    "$f(x^g_n)$ is the loss function. This is the difference between:\n",
    "* $P_{theory}$: Theoretical Price (E.g. Black-Scholes valuation using the guess for volatility)\n",
    "* $P_{actual}$: Actual Price (E.g. Market Price)\n",
    "\n",
    "$f'(x^g_n)$ is the gradient of the loss function.\n",
    "\n",
    "More explicitly, it's the partial derivative of the loss function with respect to the volatility:\n",
    "$$\\frac{\\delta \\mathcal{L}}{\\delta \\sigma}$$\n",
    "\n",
    "Where $\\mathcal{L}$ is our loss function, as defined above.\n",
    "\n",
    "So in terms of our situation, we hava:\n",
    "$$\\sigma _{n+1} = \\sigma _n - \\frac{\\mathcal{L}(\\sigma _n)}{\\frac{\\delta \\mathcal{L}}{\\delta \\sigma}}$$\n",
    "\n",
    "We can solve this iteratively! Here is the algorithm:\n",
    "1. Make a guess for the volatility.\n",
    "2. Calculate the loss function.\n",
    "3. Check if the loss is less than the tolerance, $\\epsilon$\n",
    "* $|P_{theory} - P_{actual}| < \\epsilon$\n",
    "    * If yes, STOP!\n",
    "    * If no, CONTINUE to Step 4.\n",
    "4. Calculate the gradient of the loss funtion.\n",
    "5. Update the Volatility using the Newton-Raphson formula.\n",
    "6. Repeat steps 2-5 unitl converged, or we hit the maximum number of iterations, $N_{iter}$."
   ]
  },
  {
   "cell_type": "code",
   "execution_count": 33,
   "id": "2e81bf4e",
   "metadata": {},
   "outputs": [
    {
     "name": "stdout",
     "output_type": "stream",
     "text": [
      "Theoretical Price: 6.04\n"
     ]
    }
   ],
   "source": [
    "S = 100.0\n",
    "K = 110.0\n",
    "T = 1.0\n",
    "r = 0.05\n",
    "sigma = 0.2\n",
    "q = 0\n",
    "otype = \"call\"\n",
    "\n",
    "price = black_scholes(S, K, T, r, sigma, q, otype)\n",
    "print(f\"Theoretical Price: {price:.2f}\")"
   ]
  },
  {
   "cell_type": "markdown",
   "id": "e709d086",
   "metadata": {},
   "source": [
    "\\textbf{Note:} Price was computed for a volatility of 0.2.\n",
    "\n",
    "This means that when we use this price and the above parameters\n",
    "\n",
    "(as well as a bad guess for the volatility!)\n",
    "\n",
    "We should expect the solver to converge to $\\sigma$ = 0.2!"
   ]
  },
  {
   "cell_type": "code",
   "execution_count": 41,
   "id": "615fc22d",
   "metadata": {},
   "outputs": [
    {
     "name": "stdout",
     "output_type": "stream",
     "text": [
      "\n",
      "Iteration: 0\n",
      "Current Error in Theoretical vs Market Price:\n",
      "56.310246\n",
      "\n",
      "Iteration: 1\n",
      "Current Error in Theoretical vs Market Price:\n",
      "-19.478813\n",
      "\n",
      "Iteration: 2\n",
      "Current Error in Theoretical vs Market Price:\n",
      "0.7546234\n",
      "\n",
      "Iteration: 3\n",
      "Current Error in Theoretical vs Market Price:\n",
      "0.0011482239\n",
      "\n",
      "Iteration: 4\n",
      "Current Error in Theoretical vs Market Price:\n",
      "7.6293945e-06\n",
      "Calculated Implied Volatility: 0.2000\n",
      "Actual Implied Volatility: 0.2000\n"
     ]
    }
   ],
   "source": [
    "def solve_for_iv(S, K, T, r, price, sigma_guess = 1.8, q=0, otype=\"call\", N_iter = 20, epsilon = 0.001, verbose = True):\n",
    "    #1. Guess for Volatility\n",
    "    sigma = sigma_guess\n",
    "    for i in range(N_iter):\n",
    "        print(\"\\nIteration:\", i)\n",
    "        #2. calculate loss function\n",
    "        loss_val = loss(S, K, T, r, sigma, price, q, otype)\n",
    "\n",
    "        if verbose:\n",
    "            print(\"Current Error in Theoretical vs Market Price:\")\n",
    "            print(loss_val)\n",
    "        \n",
    "        #3. Check if loss is less than the tolerance\n",
    "\n",
    "        #If yes, STOP!\n",
    "        if abs(loss_val) < epsilon:\n",
    "            break\n",
    "\n",
    "        #If no, CONTINUE to Step 4.\n",
    "        else:\n",
    "\n",
    "            #4. Calculate gradient of loss function.\n",
    "            loss_grad_val = loss_grad(S, K, T, r, sigma, price, q, otype)\n",
    "\n",
    "            #5. Update the volatility using the Newton-Raphson formula\n",
    "            sigma = sigma - loss_val / loss_grad_val\n",
    "    \n",
    "    return sigma\n",
    "\n",
    "calculated_iv = solve_for_iv(S, K, T, r, price, sigma_guess=1.8, q=q, otype=otype)\n",
    "print(f\"Calculated Implied Volatility: {calculated_iv:.4f}\")\n",
    "print(f\"Actual Implied Volatility: {sigma:.4f}\")"
   ]
  },
  {
   "cell_type": "code",
   "execution_count": 42,
   "id": "21343d56",
   "metadata": {},
   "outputs": [
    {
     "name": "stdout",
     "output_type": "stream",
     "text": [
      "0.20000018\n"
     ]
    }
   ],
   "source": [
    "print(calculated_iv)"
   ]
  }
 ],
 "metadata": {
  "kernelspec": {
   "display_name": ".venv",
   "language": "python",
   "name": "python3"
  },
  "language_info": {
   "codemirror_mode": {
    "name": "ipython",
    "version": 3
   },
   "file_extension": ".py",
   "mimetype": "text/x-python",
   "name": "python",
   "nbconvert_exporter": "python",
   "pygments_lexer": "ipython3",
   "version": "3.12.2"
  }
 },
 "nbformat": 4,
 "nbformat_minor": 5
}
